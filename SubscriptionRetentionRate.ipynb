{
 "cells": [
  {
   "cell_type": "code",
   "execution_count": 1,
   "metadata": {
    "collapsed": true
   },
   "outputs": [],
   "source": [
    "import numpy as np\n",
    "import pandas as pd\n",
    "import matplotlib.pyplot as plt\n",
    "from datetime import datetime\n",
    "from lifelines import KaplanMeierFitter\n",
    "from sklearn.linear_model import LinearRegression\n",
    "%matplotlib inline"
   ]
  },
  {
   "cell_type": "code",
   "execution_count": 2,
   "metadata": {
    "collapsed": true
   },
   "outputs": [],
   "source": [
    "# Load and inspect data\n",
    "subscription = pd.read_csv('subscription.csv')"
   ]
  },
  {
   "cell_type": "code",
   "execution_count": 3,
   "metadata": {
    "collapsed": false
   },
   "outputs": [
    {
     "name": "stdout",
     "output_type": "stream",
     "text": [
      "<class 'pandas.core.frame.DataFrame'>\n",
      "RangeIndex: 500000 entries, 0 to 499999\n",
      "Data columns (total 7 columns):\n",
      "user_id                      500000 non-null int64\n",
      "subscription_signup_date     500000 non-null object\n",
      "subscription_monthly_cost    500000 non-null int64\n",
      "country                      500000 non-null object\n",
      "source                       500000 non-null object\n",
      "billing_cycles               500000 non-null int64\n",
      "is_active                    500000 non-null int64\n",
      "dtypes: int64(4), object(3)\n",
      "memory usage: 26.7+ MB\n"
     ]
    }
   ],
   "source": [
    "subscription.info()"
   ]
  },
  {
   "cell_type": "code",
   "execution_count": 4,
   "metadata": {
    "collapsed": false
   },
   "outputs": [
    {
     "data": {
      "text/html": [
       "<div>\n",
       "<table border=\"1\" class=\"dataframe\">\n",
       "  <thead>\n",
       "    <tr style=\"text-align: right;\">\n",
       "      <th></th>\n",
       "      <th>user_id</th>\n",
       "      <th>subscription_signup_date</th>\n",
       "      <th>subscription_monthly_cost</th>\n",
       "      <th>country</th>\n",
       "      <th>source</th>\n",
       "      <th>billing_cycles</th>\n",
       "      <th>is_active</th>\n",
       "    </tr>\n",
       "  </thead>\n",
       "  <tbody>\n",
       "    <tr>\n",
       "      <th>0</th>\n",
       "      <td>1459</td>\n",
       "      <td>January, 2015</td>\n",
       "      <td>29</td>\n",
       "      <td>Spain</td>\n",
       "      <td>ads</td>\n",
       "      <td>4</td>\n",
       "      <td>0</td>\n",
       "    </tr>\n",
       "    <tr>\n",
       "      <th>1</th>\n",
       "      <td>12474</td>\n",
       "      <td>January, 2015</td>\n",
       "      <td>49</td>\n",
       "      <td>France</td>\n",
       "      <td>ads</td>\n",
       "      <td>5</td>\n",
       "      <td>0</td>\n",
       "    </tr>\n",
       "    <tr>\n",
       "      <th>2</th>\n",
       "      <td>12294</td>\n",
       "      <td>January, 2015</td>\n",
       "      <td>49</td>\n",
       "      <td>Germany</td>\n",
       "      <td>ads</td>\n",
       "      <td>2</td>\n",
       "      <td>0</td>\n",
       "    </tr>\n",
       "    <tr>\n",
       "      <th>3</th>\n",
       "      <td>3878</td>\n",
       "      <td>January, 2015</td>\n",
       "      <td>49</td>\n",
       "      <td>China</td>\n",
       "      <td>ads</td>\n",
       "      <td>1</td>\n",
       "      <td>0</td>\n",
       "    </tr>\n",
       "    <tr>\n",
       "      <th>4</th>\n",
       "      <td>9567</td>\n",
       "      <td>January, 2015</td>\n",
       "      <td>49</td>\n",
       "      <td>UK</td>\n",
       "      <td>ads</td>\n",
       "      <td>5</td>\n",
       "      <td>0</td>\n",
       "    </tr>\n",
       "  </tbody>\n",
       "</table>\n",
       "</div>"
      ],
      "text/plain": [
       "   user_id subscription_signup_date  subscription_monthly_cost  country  \\\n",
       "0     1459            January, 2015                         29    Spain   \n",
       "1    12474            January, 2015                         49   France   \n",
       "2    12294            January, 2015                         49  Germany   \n",
       "3     3878            January, 2015                         49    China   \n",
       "4     9567            January, 2015                         49       UK   \n",
       "\n",
       "  source  billing_cycles  is_active  \n",
       "0    ads               4          0  \n",
       "1    ads               5          0  \n",
       "2    ads               2          0  \n",
       "3    ads               1          0  \n",
       "4    ads               5          0  "
      ]
     },
     "execution_count": 4,
     "metadata": {},
     "output_type": "execute_result"
    }
   ],
   "source": [
    "subscription.head()"
   ]
  },
  {
   "cell_type": "code",
   "execution_count": 5,
   "metadata": {
    "collapsed": false
   },
   "outputs": [
    {
     "data": {
      "text/plain": [
       "array([29, 49, 99], dtype=int64)"
      ]
     },
     "execution_count": 5,
     "metadata": {},
     "output_type": "execute_result"
    }
   ],
   "source": [
    "subscription.subscription_monthly_cost.unique()"
   ]
  },
  {
   "cell_type": "code",
   "execution_count": 6,
   "metadata": {
    "collapsed": false
   },
   "outputs": [
    {
     "data": {
      "text/plain": [
       "array(['Spain', 'France', 'Germany', 'China', 'UK', 'US', 'India', 'Italy'], dtype=object)"
      ]
     },
     "execution_count": 6,
     "metadata": {},
     "output_type": "execute_result"
    }
   ],
   "source": [
    "subscription.country.unique()"
   ]
  },
  {
   "cell_type": "code",
   "execution_count": 7,
   "metadata": {
    "collapsed": false
   },
   "outputs": [
    {
     "data": {
      "text/plain": [
       "array(['ads', 'seo', 'friend_referral'], dtype=object)"
      ]
     },
     "execution_count": 7,
     "metadata": {},
     "output_type": "execute_result"
    }
   ],
   "source": [
    "subscription.source.unique()"
   ]
  },
  {
   "cell_type": "code",
   "execution_count": 8,
   "metadata": {
    "collapsed": false
   },
   "outputs": [
    {
     "data": {
      "text/plain": [
       "<lifelines.KaplanMeierFitter: fitted with 500000 observations, 49999 censored>"
      ]
     },
     "execution_count": 8,
     "metadata": {},
     "output_type": "execute_result"
    }
   ],
   "source": [
    "# Use the Kaplan-Meier estimator to estimate the survival function of subscribers\n",
    "subscription['churned'] = subscription.is_active.apply(lambda x: 1 if x == 0 else 0)\n",
    "kmf = KaplanMeierFitter() \n",
    "kmf.fit(durations = subscription.billing_cycles, event_observed = subscription.churned)"
   ]
  },
  {
   "cell_type": "code",
   "execution_count": 9,
   "metadata": {
    "collapsed": false
   },
   "outputs": [
    {
     "data": {
      "text/plain": [
       "<matplotlib.text.Text at 0xd458588>"
      ]
     },
     "execution_count": 9,
     "metadata": {},
     "output_type": "execute_result"
    },
    {
     "data": {
      "image/png": "[encoded data removed]",
      "text/plain": [
       "<matplotlib.figure.Figure at 0xbcf3cf8>"
      ]
     },
     "metadata": {},
     "output_type": "display_data"
    }
   ],
   "source": [
    "# Plot the survival curve\n",
    "kmf.plot()\n",
    "plt.title(\"The Kaplan-Meier Estimate for Subscribed Users\")\n",
    "plt.ylabel(\"Probability a User is Still Active\")"
   ]
  },
  {
   "cell_type": "code",
   "execution_count": 10,
   "metadata": {
    "collapsed": false
   },
   "outputs": [
    {
     "data": {
      "text/plain": [
       "1.0"
      ]
     },
     "execution_count": 10,
     "metadata": {},
     "output_type": "execute_result"
    }
   ],
   "source": [
    "# What's the median life time of a subscriber?\n",
    "kmf.median_"
   ]
  },
  {
   "cell_type": "code",
   "execution_count": 11,
   "metadata": {
    "collapsed": false
   },
   "outputs": [
    {
     "data": {
      "text/plain": [
       "<matplotlib.text.Text at 0xbeb6048>"
      ]
     },
     "execution_count": 11,
     "metadata": {},
     "output_type": "execute_result"
    },
    {
     "data": {
      "image/png": "[encoded data removed]",
      "text/plain": [
       "<matplotlib.figure.Figure at 0xbf43240>"
      ]
     },
     "metadata": {},
     "output_type": "display_data"
    }
   ],
   "source": [
    "# Plot survival curves by price point\n",
    "fig, axes = plt.subplots(1, 3,  figsize=(15,7))\n",
    "price_points = [29, 49, 99]\n",
    "for i in range(3):\n",
    "    df = subscription[subscription.subscription_monthly_cost == price_points[i]]\n",
    "    kmf.fit(durations=df.billing_cycles, event_observed= df.churned)\n",
    "    kmf.plot(ax = axes[i],label = price_points[i])\n",
    "    axes[i].set_title(\"Price: $\"+str(price_points[i]))\n",
    "fig.text(0.5, -0.01, \"Billing cycles (Months)\", ha=\"center\")\n",
    "fig.text(-0.01, 0.5, \"Probability that a User is Still Active\", \n",
    "         va=\"center\", rotation=\"vertical\")"
   ]
  },
  {
   "cell_type": "markdown",
   "metadata": {},
   "source": [
    "**Price definitely has a huge impact on the retention rate. We see higher churn rates during the beginning of the program with higher prices, but they tend to drop and stabilize very quickly. We see less churn with lower priced subcriptions, but the churn rates take more time to stabilize.**"
   ]
  },
  {
   "cell_type": "code",
   "execution_count": 12,
   "metadata": {
    "collapsed": false
   },
   "outputs": [
    {
     "data": {
      "image/png": "[encoded data removed]",
      "text/plain": [
       "<matplotlib.figure.Figure at 0xd44a4a8>"
      ]
     },
     "metadata": {},
     "output_type": "display_data"
    }
   ],
   "source": [
    "# Plot survival curves by country\n",
    "fig, axes = plt.subplots(2, 4,  figsize=(20,14))\n",
    "countries = ['Spain', 'France', 'Germany', 'China', 'UK', 'US', 'India', 'Italy']\n",
    "for country, ax in zip(countries, axes.flatten()):\n",
    "    df = subscription[subscription.country == country]\n",
    "    kmf.fit(durations=df.billing_cycles, event_observed= df.churned)\n",
    "    kmf.plot(ax = ax)\n",
    "    ax.set_title(country)"
   ]
  },
  {
   "cell_type": "markdown",
   "metadata": {},
   "source": [
    "**We can see significantly higher retention rates among users in China and India than users in other countries.**"
   ]
  },
  {
   "cell_type": "code",
   "execution_count": 13,
   "metadata": {
    "collapsed": false
   },
   "outputs": [
    {
     "data": {
      "image/png": "[encoded data removed]",
      "text/plain": [
       "<matplotlib.figure.Figure at 0xbea0c50>"
      ]
     },
     "metadata": {},
     "output_type": "display_data"
    }
   ],
   "source": [
    "# Plot survival curves by source\n",
    "fig, axes = plt.subplots(1, 3,  figsize=(15,7))\n",
    "sources = ['ads', 'seo', 'friend_referral']\n",
    "for source, ax in zip(sources, axes.flatten()):\n",
    "    df = subscription[subscription.source == source]\n",
    "    kmf.fit(durations=df.billing_cycles, event_observed= df.churned)\n",
    "    kmf.plot(ax = ax)\n",
    "    ax.set_title(source)"
   ]
  },
  {
   "cell_type": "markdown",
   "metadata": {},
   "source": [
    "**We see a greater customer retention from friend referrals.**"
   ]
  },
  {
   "cell_type": "code",
   "execution_count": 14,
   "metadata": {
    "collapsed": false
   },
   "outputs": [
    {
     "data": {
      "text/html": [
       "<div>\n",
       "<table border=\"1\" class=\"dataframe\">\n",
       "  <thead>\n",
       "    <tr style=\"text-align: right;\">\n",
       "      <th></th>\n",
       "      <th>removed</th>\n",
       "      <th>observed</th>\n",
       "      <th>censored</th>\n",
       "      <th>entrance</th>\n",
       "      <th>at_risk</th>\n",
       "    </tr>\n",
       "    <tr>\n",
       "      <th>event_at</th>\n",
       "      <th></th>\n",
       "      <th></th>\n",
       "      <th></th>\n",
       "      <th></th>\n",
       "      <th></th>\n",
       "    </tr>\n",
       "  </thead>\n",
       "  <tbody>\n",
       "    <tr>\n",
       "      <th>0.0</th>\n",
       "      <td>0</td>\n",
       "      <td>0</td>\n",
       "      <td>0</td>\n",
       "      <td>146362</td>\n",
       "      <td>146362</td>\n",
       "    </tr>\n",
       "    <tr>\n",
       "      <th>1.0</th>\n",
       "      <td>57441</td>\n",
       "      <td>57441</td>\n",
       "      <td>0</td>\n",
       "      <td>0</td>\n",
       "      <td>146362</td>\n",
       "    </tr>\n",
       "    <tr>\n",
       "      <th>2.0</th>\n",
       "      <td>21818</td>\n",
       "      <td>21818</td>\n",
       "      <td>0</td>\n",
       "      <td>0</td>\n",
       "      <td>88921</td>\n",
       "    </tr>\n",
       "    <tr>\n",
       "      <th>3.0</th>\n",
       "      <td>12037</td>\n",
       "      <td>12037</td>\n",
       "      <td>0</td>\n",
       "      <td>0</td>\n",
       "      <td>67103</td>\n",
       "    </tr>\n",
       "    <tr>\n",
       "      <th>4.0</th>\n",
       "      <td>7787</td>\n",
       "      <td>7787</td>\n",
       "      <td>0</td>\n",
       "      <td>0</td>\n",
       "      <td>55066</td>\n",
       "    </tr>\n",
       "    <tr>\n",
       "      <th>5.0</th>\n",
       "      <td>5505</td>\n",
       "      <td>5505</td>\n",
       "      <td>0</td>\n",
       "      <td>0</td>\n",
       "      <td>47279</td>\n",
       "    </tr>\n",
       "    <tr>\n",
       "      <th>6.0</th>\n",
       "      <td>4136</td>\n",
       "      <td>4136</td>\n",
       "      <td>0</td>\n",
       "      <td>0</td>\n",
       "      <td>41774</td>\n",
       "    </tr>\n",
       "    <tr>\n",
       "      <th>7.0</th>\n",
       "      <td>3111</td>\n",
       "      <td>3111</td>\n",
       "      <td>0</td>\n",
       "      <td>0</td>\n",
       "      <td>37638</td>\n",
       "    </tr>\n",
       "    <tr>\n",
       "      <th>8.0</th>\n",
       "      <td>34527</td>\n",
       "      <td>0</td>\n",
       "      <td>34527</td>\n",
       "      <td>0</td>\n",
       "      <td>34527</td>\n",
       "    </tr>\n",
       "  </tbody>\n",
       "</table>\n",
       "</div>"
      ],
      "text/plain": [
       "          removed  observed  censored  entrance  at_risk\n",
       "event_at                                                \n",
       "0.0             0         0         0    146362   146362\n",
       "1.0         57441     57441         0         0   146362\n",
       "2.0         21818     21818         0         0    88921\n",
       "3.0         12037     12037         0         0    67103\n",
       "4.0          7787      7787         0         0    55066\n",
       "5.0          5505      5505         0         0    47279\n",
       "6.0          4136      4136         0         0    41774\n",
       "7.0          3111      3111         0         0    37638\n",
       "8.0         34527         0     34527         0    34527"
      ]
     },
     "execution_count": 14,
     "metadata": {},
     "output_type": "execute_result"
    }
   ],
   "source": [
    "# View the survival tables for each price point\n",
    "df = subscription[subscription.subscription_monthly_cost == 29]\n",
    "kmf.fit(durations=df.billing_cycles, event_observed= df.churned)\n",
    "kmf.event_table"
   ]
  },
  {
   "cell_type": "markdown",
   "metadata": {},
   "source": [
    "**There were no inactive subscriptions during the month of August. Assuming that this behavior continues, we should expect 23% of the $29 subscriptions to still be active by the end of the year.**"
   ]
  },
  {
   "cell_type": "code",
   "execution_count": 15,
   "metadata": {
    "collapsed": false
   },
   "outputs": [
    {
     "data": {
      "text/html": [
       "<div>\n",
       "<table border=\"1\" class=\"dataframe\">\n",
       "  <thead>\n",
       "    <tr style=\"text-align: right;\">\n",
       "      <th></th>\n",
       "      <th>removed</th>\n",
       "      <th>observed</th>\n",
       "      <th>censored</th>\n",
       "      <th>entrance</th>\n",
       "      <th>at_risk</th>\n",
       "    </tr>\n",
       "    <tr>\n",
       "      <th>event_at</th>\n",
       "      <th></th>\n",
       "      <th></th>\n",
       "      <th></th>\n",
       "      <th></th>\n",
       "      <th></th>\n",
       "    </tr>\n",
       "  </thead>\n",
       "  <tbody>\n",
       "    <tr>\n",
       "      <th>0.0</th>\n",
       "      <td>0</td>\n",
       "      <td>0</td>\n",
       "      <td>0</td>\n",
       "      <td>300397</td>\n",
       "      <td>300397</td>\n",
       "    </tr>\n",
       "    <tr>\n",
       "      <th>1.0</th>\n",
       "      <td>185145</td>\n",
       "      <td>185145</td>\n",
       "      <td>0</td>\n",
       "      <td>0</td>\n",
       "      <td>300397</td>\n",
       "    </tr>\n",
       "    <tr>\n",
       "      <th>2.0</th>\n",
       "      <td>53296</td>\n",
       "      <td>53296</td>\n",
       "      <td>0</td>\n",
       "      <td>0</td>\n",
       "      <td>115252</td>\n",
       "    </tr>\n",
       "    <tr>\n",
       "      <th>3.0</th>\n",
       "      <td>21690</td>\n",
       "      <td>21690</td>\n",
       "      <td>0</td>\n",
       "      <td>0</td>\n",
       "      <td>61956</td>\n",
       "    </tr>\n",
       "    <tr>\n",
       "      <th>4.0</th>\n",
       "      <td>11288</td>\n",
       "      <td>11288</td>\n",
       "      <td>0</td>\n",
       "      <td>0</td>\n",
       "      <td>40266</td>\n",
       "    </tr>\n",
       "    <tr>\n",
       "      <th>5.0</th>\n",
       "      <td>6727</td>\n",
       "      <td>6727</td>\n",
       "      <td>0</td>\n",
       "      <td>0</td>\n",
       "      <td>28978</td>\n",
       "    </tr>\n",
       "    <tr>\n",
       "      <th>6.0</th>\n",
       "      <td>4405</td>\n",
       "      <td>4405</td>\n",
       "      <td>0</td>\n",
       "      <td>0</td>\n",
       "      <td>22251</td>\n",
       "    </tr>\n",
       "    <tr>\n",
       "      <th>7.0</th>\n",
       "      <td>3173</td>\n",
       "      <td>3173</td>\n",
       "      <td>0</td>\n",
       "      <td>0</td>\n",
       "      <td>17846</td>\n",
       "    </tr>\n",
       "    <tr>\n",
       "      <th>8.0</th>\n",
       "      <td>14673</td>\n",
       "      <td>0</td>\n",
       "      <td>14673</td>\n",
       "      <td>0</td>\n",
       "      <td>14673</td>\n",
       "    </tr>\n",
       "  </tbody>\n",
       "</table>\n",
       "</div>"
      ],
      "text/plain": [
       "          removed  observed  censored  entrance  at_risk\n",
       "event_at                                                \n",
       "0.0             0         0         0    300397   300397\n",
       "1.0        185145    185145         0         0   300397\n",
       "2.0         53296     53296         0         0   115252\n",
       "3.0         21690     21690         0         0    61956\n",
       "4.0         11288     11288         0         0    40266\n",
       "5.0          6727      6727         0         0    28978\n",
       "6.0          4405      4405         0         0    22251\n",
       "7.0          3173      3173         0         0    17846\n",
       "8.0         14673         0     14673         0    14673"
      ]
     },
     "execution_count": 15,
     "metadata": {},
     "output_type": "execute_result"
    }
   ],
   "source": [
    "df = subscription[subscription.subscription_monthly_cost == 49]\n",
    "kmf.fit(durations=df.billing_cycles, event_observed= df.churned)\n",
    "kmf.event_table"
   ]
  },
  {
   "cell_type": "markdown",
   "metadata": {},
   "source": [
    "**There were no inactive subscriptions during the month of August. Assuming that this behavior continues, we should expect 4% of the $49 subscriptions to still be active by the end of the year.**"
   ]
  },
  {
   "cell_type": "code",
   "execution_count": 16,
   "metadata": {
    "collapsed": false
   },
   "outputs": [
    {
     "data": {
      "text/html": [
       "<div>\n",
       "<table border=\"1\" class=\"dataframe\">\n",
       "  <thead>\n",
       "    <tr style=\"text-align: right;\">\n",
       "      <th></th>\n",
       "      <th>removed</th>\n",
       "      <th>observed</th>\n",
       "      <th>censored</th>\n",
       "      <th>entrance</th>\n",
       "      <th>at_risk</th>\n",
       "    </tr>\n",
       "    <tr>\n",
       "      <th>event_at</th>\n",
       "      <th></th>\n",
       "      <th></th>\n",
       "      <th></th>\n",
       "      <th></th>\n",
       "      <th></th>\n",
       "    </tr>\n",
       "  </thead>\n",
       "  <tbody>\n",
       "    <tr>\n",
       "      <th>0.0</th>\n",
       "      <td>0</td>\n",
       "      <td>0</td>\n",
       "      <td>0</td>\n",
       "      <td>53241</td>\n",
       "      <td>53241</td>\n",
       "    </tr>\n",
       "    <tr>\n",
       "      <th>1.0</th>\n",
       "      <td>44788</td>\n",
       "      <td>44788</td>\n",
       "      <td>0</td>\n",
       "      <td>0</td>\n",
       "      <td>53241</td>\n",
       "    </tr>\n",
       "    <tr>\n",
       "      <th>2.0</th>\n",
       "      <td>4724</td>\n",
       "      <td>4724</td>\n",
       "      <td>0</td>\n",
       "      <td>0</td>\n",
       "      <td>8453</td>\n",
       "    </tr>\n",
       "    <tr>\n",
       "      <th>3.0</th>\n",
       "      <td>1471</td>\n",
       "      <td>1471</td>\n",
       "      <td>0</td>\n",
       "      <td>0</td>\n",
       "      <td>3729</td>\n",
       "    </tr>\n",
       "    <tr>\n",
       "      <th>4.0</th>\n",
       "      <td>678</td>\n",
       "      <td>678</td>\n",
       "      <td>0</td>\n",
       "      <td>0</td>\n",
       "      <td>2258</td>\n",
       "    </tr>\n",
       "    <tr>\n",
       "      <th>5.0</th>\n",
       "      <td>399</td>\n",
       "      <td>399</td>\n",
       "      <td>0</td>\n",
       "      <td>0</td>\n",
       "      <td>1580</td>\n",
       "    </tr>\n",
       "    <tr>\n",
       "      <th>6.0</th>\n",
       "      <td>226</td>\n",
       "      <td>226</td>\n",
       "      <td>0</td>\n",
       "      <td>0</td>\n",
       "      <td>1181</td>\n",
       "    </tr>\n",
       "    <tr>\n",
       "      <th>7.0</th>\n",
       "      <td>156</td>\n",
       "      <td>156</td>\n",
       "      <td>0</td>\n",
       "      <td>0</td>\n",
       "      <td>955</td>\n",
       "    </tr>\n",
       "    <tr>\n",
       "      <th>8.0</th>\n",
       "      <td>799</td>\n",
       "      <td>0</td>\n",
       "      <td>799</td>\n",
       "      <td>0</td>\n",
       "      <td>799</td>\n",
       "    </tr>\n",
       "  </tbody>\n",
       "</table>\n",
       "</div>"
      ],
      "text/plain": [
       "          removed  observed  censored  entrance  at_risk\n",
       "event_at                                                \n",
       "0.0             0         0         0     53241    53241\n",
       "1.0         44788     44788         0         0    53241\n",
       "2.0          4724      4724         0         0     8453\n",
       "3.0          1471      1471         0         0     3729\n",
       "4.0           678       678         0         0     2258\n",
       "5.0           399       399         0         0     1580\n",
       "6.0           226       226         0         0     1181\n",
       "7.0           156       156         0         0      955\n",
       "8.0           799         0       799         0      799"
      ]
     },
     "execution_count": 16,
     "metadata": {},
     "output_type": "execute_result"
    }
   ],
   "source": [
    "df = subscription[subscription.subscription_monthly_cost == 99]\n",
    "kmf.fit(durations=df.billing_cycles, event_observed= df.churned)\n",
    "kmf.event_table"
   ]
  },
  {
   "cell_type": "markdown",
   "metadata": {},
   "source": [
    "**There were no inactive subscriptions during the month of August. Assuming that this behavior continues, we should expect 1.5% of the $99 subscriptions to still be active by the end of the year.**"
   ]
  },
  {
   "cell_type": "markdown",
   "metadata": {},
   "source": [
    "**To improve company revenue, I recommend:**  \n",
    "- **Conduct user experience research on the first month of subscription. Over 50% of cancellations occur during the 1st month of the subscription. Improving user experience during the first month will dramatically improve retention rate.**\n",
    "- **Incentivize users who refer their friends by offering a prize or discount on monthly subscription.**"
   ]
  },
  {
   "cell_type": "code",
   "execution_count": null,
   "metadata": {
    "collapsed": true
   },
   "outputs": [],
   "source": []
  },
  {
   "cell_type": "code",
   "execution_count": null,
   "metadata": {
    "collapsed": true
   },
   "outputs": [],
   "source": []
  }
 ],
 "metadata": {
  "kernelspec": {
   "display_name": "Python 2",
   "language": "python",
   "name": "python2"
  },
  "language_info": {
   "codemirror_mode": {
    "name": "ipython",
    "version": 2
   },
   "file_extension": ".py",
   "mimetype": "text/x-python",
   "name": "python",
   "nbconvert_exporter": "python",
   "pygments_lexer": "ipython2",
   "version": "2.7.13"
  }
 },
 "nbformat": 4,
 "nbformat_minor": 2
}
